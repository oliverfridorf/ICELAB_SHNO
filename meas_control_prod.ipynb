{
 "cells": [
  {
   "cell_type": "code",
   "execution_count": null,
   "metadata": {},
   "outputs": [],
   "source": [
    "import sys; sys.path.append(\"C:/Users/SpinAge_SHNO/OneDrive - Aarhus universitet/VS/SpinAge/Setup_control\")\n",
    "from shno_lib_docstring import *\n",
    "from mpl_toolkits.mplot3d import Axes3D\n",
    "import plotly.graph_objects as go\n",
    "import h5py\n",
    "\n",
    "# Initilize the intruments\n",
    "magnet = rs_hmp_psu()             # Default COM port\n",
    "lna_psu = keysight36300()         # Default IP\n",
    "shno_bias = keithley2450(addr=2)  # IP Connection\n",
    "vxm = Velmex_VXM()                # Default COM port\n",
    "fsv = rs_fsv()                    # Default IP  "
   ]
  },
  {
   "cell_type": "markdown",
   "metadata": {},
   "source": [
    "## Initial control/setup cells"
   ]
  },
  {
   "cell_type": "code",
   "execution_count": null,
   "metadata": {},
   "outputs": [],
   "source": [
    "# Turn off all power\n",
    "lna_psu.off()\n",
    "shno_bias.off()\n",
    "magnet.off()\n"
   ]
  },
  {
   "cell_type": "code",
   "execution_count": null,
   "metadata": {},
   "outputs": [],
   "source": [
    "# Control angle \n",
    "vxm.move_degree(-18-18)"
   ]
  },
  {
   "cell_type": "code",
   "execution_count": null,
   "metadata": {},
   "outputs": [],
   "source": [
    "# Test SHNO connection\n",
    "shno_bias.set_output(V=2, I=1e-3, turn_on=True)"
   ]
  },
  {
   "cell_type": "markdown",
   "metadata": {},
   "source": [
    "## Start magnetic field sweep"
   ]
  },
  {
   "cell_type": "code",
   "execution_count": null,
   "metadata": {},
   "outputs": [],
   "source": [
    "# initialize the parameteters\n",
    "\n",
    "# Metadata\n",
    "sample_name = \"X6_L1R2\"\n",
    "date = time.localtime()[1:3]\n",
    "date = f\"{date[0]}-{date[1]}\"\n",
    "\n",
    "# Angle: 82 degrees\n",
    "bias_current = 2.0e-3 # SHNO bias: 180nm: 2.2mA, 150nm: 2mA\n",
    "shno_bias.set_output(I=bias_current, V=2, turn_on=False)\n",
    "\n",
    "# Set magnet range in output current\n",
    "start_field = 1     #[A]\n",
    "stop_field = 5      #[A]\n",
    "step_size = 0.05    #[A]\n",
    "\n",
    "magnet_range = np.linspace(start_field, stop_field, int(abs((stop_field-start_field)/step_size)+1))\n",
    "applied_field = np.zeros_like(magnet_range)\n",
    "\n",
    "# Turn on FSV Spectrum Analyzer\n",
    "start_f = 4E9; stop_f = 10E9\n",
    "bandwidth = 500E3\n",
    "capture_points = int(2*(stop_f-start_f)/bandwidth/2)\n",
    "\n",
    "waveforms = np.zeros((len(magnet_range), capture_points))\n",
    "waveforms_bg = np.zeros_like(waveforms)\n",
    "fsv.show_screen(start_f = start_f, stop_f = stop_f, bandwidth=bandwidth, points = capture_points)\n",
    "frequency = np.linspace(start_f, stop_f, capture_points)\n",
    "\n"
   ]
  },
  {
   "cell_type": "code",
   "execution_count": null,
   "metadata": {},
   "outputs": [],
   "source": [
    "# Start measurements\n",
    "lna_psu.lna(state=True)\n",
    "shno_bias.on()\n",
    "time.sleep(1)\n",
    "\n",
    "progress_bar = tqdm(enumerate(magnet_range), total=len(magnet_range))\n",
    "mag_R = magnet.set_calibrated_current(start_field)\n",
    "\n",
    "# Run measurement loop\n",
    "for i, field in progress_bar:\n",
    "    mag_R = magnet.set_calibrated_current(field, mag_R)\n",
    "    time.sleep(1)\n",
    "    applied_field[i] = magnet.field_strenght()\n",
    "    progress_bar.set_postfix({'Applied Field': applied_field[i]})\n",
    "    waveforms[i] = fsv.get_trace(avg_count=50)\n",
    "\n",
    "# Turn off all power\n",
    "lna_psu.lna(state=False)\n",
    "shno_bias.off()\n",
    "magnet.off()\n",
    "shno_bias.chirp(0)\n"
   ]
  },
  {
   "cell_type": "code",
   "execution_count": null,
   "metadata": {},
   "outputs": [],
   "source": [
    "# Save the data\n",
    "name = f'field_sweep/{date}_{sample_name}_{str(bias_current*1000).replace(\".\", \"_\")}_82deg.h5'\n",
    "ans = input(f\"Confirm saving? [y/n]:{name}\")\n",
    "if ans == 'y':\n",
    "    with h5py.File(name, 'w') as f:\n",
    "        # Store the waveforms, frequency, and applied field\n",
    "        f.create_dataset('frequency', data=frequency)\n",
    "        f.create_dataset('waveforms', data=waveforms)\n",
    "        f.create_dataset('applied_field', data=applied_field)\n",
    "    print(f\"File saved as: '{name}'\")\n",
    "    print(\"Time:\", time.strftime(\"%H:%M:%S\", time.localtime()))\n",
    "else: \n",
    "    print(\"Save cancelled!\")"
   ]
  },
  {
   "cell_type": "markdown",
   "metadata": {},
   "source": [
    "## Start Angle Sweep"
   ]
  },
  {
   "cell_type": "code",
   "execution_count": null,
   "metadata": {},
   "outputs": [],
   "source": [
    "# Control the angle to set the starting angle for the measurement \n",
    "vxm.move_degree(-8)"
   ]
  },
  {
   "cell_type": "code",
   "execution_count": null,
   "metadata": {},
   "outputs": [],
   "source": [
    "# Get postition relative to the position of the stage when the VXM was initialized\n",
    "vxm.get_pos()"
   ]
  },
  {
   "cell_type": "code",
   "execution_count": null,
   "metadata": {},
   "outputs": [],
   "source": [
    "# initialize the parameteters\n",
    "\n",
    "# Metadata\n",
    "sample_name = \"X6_L1R2\"\n",
    "date = time.localtime()[1:3]\n",
    "date = f\"{date[0]}-{date[1]}\"\n",
    "\n",
    "# Angle: 82 degrees\n",
    "bias_current = 2.0e-3 # SHNO bias: 180nm: 2.2mA, 150nm: 2mA\n",
    "shno_bias.set_output(I=bias_current, V=2, turn_on=False)\n",
    "\n",
    "# Set magnet current \n",
    "magnet_current = 3.3 #[A] # 3.3A = 0.5 T\n",
    "\n",
    "# Angle\n",
    "total_angle = 10  #[degrees]\n",
    "step_size = 0.025 #[degrees]\n",
    "angle_steps = int(total_angle/step_size)\n",
    "angle_range = np.linspace(0, total_angle, angle_steps)\n",
    "applied_field = np.zeros(angle_steps)\n",
    "\n",
    "# Turn on FSV\n",
    "start_f = 3E9; stop_f = 10E9\n",
    "bandwidth = 500E3           # noise floor approx -80dBm @ 500e3\n",
    "capture_points = int(2*(stop_f-start_f)/bandwidth)\n",
    "waveforms = np.zeros((angle_steps, capture_points))\n",
    "fsv.show_screen(start_f = start_f, stop_f = stop_f, bandwidth=bandwidth, points = capture_points)\n",
    "frequency = np.linspace(start_f, stop_f, capture_points)\n",
    "\n"
   ]
  },
  {
   "cell_type": "code",
   "execution_count": null,
   "metadata": {},
   "outputs": [],
   "source": [
    "# Start measurements\n",
    "lna_psu.lna(state=True)\n",
    "shno_bias.on()\n",
    "time.sleep(1)\n",
    "mag_R = magnet.set_calibrated_current(magnet_current)\n",
    "\n",
    "# Run the measuement loop\n",
    "for i in tqdm(range(angle_steps)):\n",
    "    mag_R = magnet.set_calibrated_current(magnet_current, mag_R)\n",
    "    applied_field[i] = magnet.field_strenght()\n",
    "    waveforms[i] = fsv.get_trace(avg_count=50)\n",
    "    vxm.Move_degree(step_size)\n",
    "    shno_bias.on()\n",
    "    time.sleep(0.5)\n",
    "\n",
    "# Turn off all power\n",
    "lna_psu.lna(state=False)\n",
    "shno_bias.off()\n",
    "magnet.off()\n",
    "shno_bias.chirp(0)"
   ]
  },
  {
   "cell_type": "code",
   "execution_count": null,
   "metadata": {},
   "outputs": [],
   "source": [
    "# Save the data\n",
    "name = f'angle_sweep/{date}_{sample_name}_{str(bias_current*1000).replace(\".\", \"_\")}_start_72deg_field_{magnet_current}A.h5'\n",
    "ans = input(f\"Confirm saving? [y/n]:{name}\")\n",
    "if ans == 'y':\n",
    "    with h5py.File(name, 'w') as f:\n",
    "        # Store the waveforms, frequency, and applied field\n",
    "        f.create_dataset('frequency', data=frequency)\n",
    "        f.create_dataset('waveforms', data=waveforms)\n",
    "        f.create_dataset('applied_field', data=applied_field)\n",
    "        f.create_dataset('angle_range', data=angle_range)\n",
    "    print(f\"File saved as: '{name}'\")\n",
    "    print(\"Time:\", time.strftime(\"%H:%M:%S\", time.localtime()))\n",
    "else: \n",
    "    print(\"Save cancelled!\")"
   ]
  },
  {
   "cell_type": "markdown",
   "metadata": {},
   "source": [
    "## Bias sweep"
   ]
  },
  {
   "cell_type": "code",
   "execution_count": null,
   "metadata": {},
   "outputs": [],
   "source": [
    "# initialize the parameteters\n",
    "\n",
    "# Metadata\n",
    "sample_name = \"X6_L2R4\"\n",
    "date = time.localtime()[1:3]\n",
    "date = f\"{date[0]}-{date[1]}\"\n",
    "\n",
    "# Angle: 82 degrees\n",
    "\n",
    "# Set magnet range in output voltage\n",
    "magnet_field = 3.3 #3.3A = 0.5 mT\n",
    "\n",
    "# Set bias current range\n",
    "start_bias = 5e-3\n",
    "stop_bias = 20e-3\n",
    "bias_step = 0.25e-3\n",
    "\n",
    "total_steps = int((stop_bias-start_bias)/bias_step)\n",
    "bias_range = np.linspace(start_bias, stop_bias, total_steps)\n",
    "applied_field = np.zeros_like(bias_range)\n",
    "\n",
    "# Turn on FSV\n",
    "start_f = 3E9; stop_f = 10E9\n",
    "bandwidth = 500E3\n",
    "capture_points = int(2*(stop_f-start_f)/bandwidth)\n",
    "\n",
    "waveforms = np.zeros((total_steps, capture_points))\n",
    "fsv.show_screen(start_f = start_f, stop_f = stop_f, bandwidth=bandwidth, points = capture_points)\n",
    "frequency = np.linspace(start_f, stop_f, capture_points)\n"
   ]
  },
  {
   "cell_type": "code",
   "execution_count": null,
   "metadata": {},
   "outputs": [],
   "source": [
    "# Start measurements\n",
    "lna_psu.lna(state=True)\n",
    "mag_R = magnet.set_calibrated_current(magnet_field, 2)\n",
    "time.sleep(1)\n",
    "\n",
    "# Run the measuement loop\n",
    "for i in tqdm(range(total_steps)):\n",
    "    mag_R = magnet.set_calibrated_current(magnet_field, mag_R)\n",
    "    shno_bias.set_output(2, bias_range[i], turn_on=True)\n",
    "    time.sleep(1)\n",
    "    applied_field[i] = magnet.field_strenght()\n",
    "    progress_bar.set_postfix({'Applied Field': applied_field[i]})\n",
    "    waveforms[i] = fsv.get_trace(avg_count=50)\n",
    "\n",
    "# Turn off all power\n",
    "lna_psu.lna(state=False)\n",
    "shno_bias.off()\n",
    "magnet.off()\n",
    "shno_bias.chirp(0)"
   ]
  },
  {
   "cell_type": "code",
   "execution_count": null,
   "metadata": {},
   "outputs": [],
   "source": [
    "# Save the data\n",
    "name = f'bias_sweep/{date}_{sample_name}_76deg_field_{magnet_field}A.h5'\n",
    "ans = input(f\"Confirm saving? [y/n]:{name}\")\n",
    "if ans == 'y':\n",
    "    with h5py.File(name, 'w') as f:\n",
    "        # Store the waveforms, frequency, and applied field\n",
    "        f.create_dataset('frequency', data=frequency)\n",
    "        f.create_dataset('waveforms', data=waveforms)\n",
    "        f.create_dataset('applied_field', data=applied_field)\n",
    "        f.create_dataset('bias_range', data=bias_range)\n",
    "    print(f\"File saved as: '{name}'\")\n",
    "    print(\"Time:\", time.strftime(\"%H:%M:%S\", time.localtime()))\n",
    "else: \n",
    "    print(\"Save cancelled!\")"
   ]
  },
  {
   "cell_type": "markdown",
   "metadata": {},
   "source": [
    "## Angle/Field sweep"
   ]
  },
  {
   "cell_type": "code",
   "execution_count": null,
   "metadata": {},
   "outputs": [],
   "source": [
    "# Move stage to stating position\n",
    "vxm.Move_degree(18)"
   ]
  },
  {
   "cell_type": "code",
   "execution_count": null,
   "metadata": {},
   "outputs": [],
   "source": [
    "# initialize the parameteters\n",
    "\n",
    "# Metadata\n",
    "sample_name = \"X6_L2R4\"\n",
    "date = time.localtime()[1:3]\n",
    "date = f\"{date[0]}-{date[1]}\"\n",
    "\n",
    "# The set bias current\n",
    "bias_current = 2.0e-3 # SHNO bias: 180nm: 2.2mA, 150nm: 2mA\n",
    "shno_bias.set_output(I=bias_current, V=2, turn_on=False)\n",
    "\n",
    "# Set magnet range in current\n",
    "start_field = 2.5\n",
    "stop_field = 4.5\n",
    "step_size = 0.05\n",
    "magnet_range = np.linspace(start_field, stop_field, int(abs((stop_field-start_field)/step_size)+1))\n",
    "applied_field = np.zeros_like(magnet_range)\n",
    "\n",
    "\n",
    "# Angle\n",
    "start_angle = 76 # set manually \n",
    "total_angle = 6\n",
    "step_size = 0.5\n",
    "angle_steps = int(total_angle/step_size)\n",
    "angle_range = np.linspace(0, total_angle, angle_steps+1)\n",
    "\n",
    "# Turn on FSV\n",
    "start_f = 3E9; stop_f = 9E9\n",
    "bandwidth =750E3\n",
    "capture_points = int(2*(stop_f-start_f)/bandwidth)\n",
    "waveforms = np.zeros((len(magnet_range), capture_points))\n",
    "waveforms_bg = np.zeros_like(waveforms)\n",
    "fsv.show_screen(start_f = start_f, stop_f = stop_f, bandwidth=bandwidth, points = capture_points)\n",
    "frequency = np.linspace(start_f, stop_f, capture_points)\n"
   ]
  },
  {
   "cell_type": "code",
   "execution_count": null,
   "metadata": {},
   "outputs": [],
   "source": [
    "# Start measurements\n",
    "lna_psu.lna(state=True)\n",
    "shno_bias.on()\n",
    "time.sleep(1)\n",
    "\n",
    "for angle in tqdm(angle_range):\n",
    "\n",
    "    progress_bar = tqdm(enumerate(magnet_range), total=len(magnet_range), leave=False)\n",
    "    mag_R = magnet.set_calibrated_current(start_field)\n",
    "    for i, field in progress_bar:\n",
    "        mag_R = magnet.set_calibrated_current(field, mag_R)\n",
    "        applied_field[i] = magnet.field_strenght()\n",
    "        progress_bar.set_postfix({'Applied Field': applied_field[i]})\n",
    "        waveforms[i] = fsv.get_trace(avg_count=50)\n",
    "        \n",
    "    # Save the data for each field sweep automatically\n",
    "    name = f'angle_sweep/field_sweep/{sample_name}/{date}_{str(bias_current*1000).replace(\".\", \"_\")}mA_{angle + start_angle}deg.h5'\n",
    "    with h5py.File(name, 'w') as f:\n",
    "        # Store the waveforms, frequency, and applied field\n",
    "        f.create_dataset('frequency', data=frequency)\n",
    "        f.create_dataset('waveforms', data=waveforms)\n",
    "        f.create_dataset('applied_field', data=applied_field)\n",
    "\n",
    "    vxm.Move_degree(step_size)\n",
    "    \n",
    "# Turn off all power\n",
    "lna_psu.lna(state=False)\n",
    "shno_bias.off()\n",
    "magnet.off()\n",
    "shno_bias.chirp(0)"
   ]
  },
  {
   "cell_type": "markdown",
   "metadata": {},
   "source": [
    "## Field + Bias Sweep"
   ]
  },
  {
   "cell_type": "code",
   "execution_count": null,
   "metadata": {},
   "outputs": [],
   "source": [
    "# initialize the parameteters\n",
    "\n",
    "# Metadata\n",
    "sample_name = \"X6_L2R4\"\n",
    "date = time.localtime()[1:3]\n",
    "date = f\"{date[0]}-{date[1]}\"\n",
    "\n",
    "# Angle: 82 degrees\n",
    "bias_current = 2.0e-3 # SHNO bias: 180nm: 2.2mA, 150nm: 2mA\n",
    "shno_bias.set_output(I=bias_current, V=2, turn_on=False)\n",
    "\n",
    "# Set bias current range\n",
    "start_bias = 1.2e-3\n",
    "stop_bias = 2.5e-3\n",
    "bias_step = 0.025e-3\n",
    "\n",
    "total_steps = int((stop_bias-start_bias)/bias_step)\n",
    "bias_range = np.linspace(start_bias, stop_bias, total_steps)\n",
    "\n",
    "#applied_field = np.zeros_like(bias_range)\n",
    "\n",
    "\n",
    "# Set magnet range in output voltage\n",
    "start_field = 1 #[A]\n",
    "stop_field = 5  #[A]\n",
    "step_size = 0.1\n",
    "\n",
    "\n",
    "\n",
    "magnet_range = np.linspace(start_field, stop_field, int(abs((stop_field-start_field)/step_size)+1))\n",
    "applied_field = np.zeros_like(magnet_range)\n",
    "\n",
    "\n",
    "# Angle\n",
    "#start_angle = 77.2 # set mnually \n",
    "\n",
    "\n",
    "#applied_field = np.zeros(angle_steps)\n",
    "\n",
    "# Turn on FSV\n",
    "start_f = 3E9; stop_f = 10E9\n",
    "bandwidth = 2000E3\n",
    "capture_points = int(2*(stop_f-start_f)/bandwidth)\n",
    "\n",
    "waveforms = np.zeros((len(magnet_range), capture_points))\n",
    "waveforms_bg = np.zeros_like(waveforms)\n",
    "fsv.show_screen(start_f = start_f, stop_f = stop_f, bandwidth=bandwidth, points = capture_points)\n",
    "frequency = np.linspace(start_f, stop_f, capture_points)\n"
   ]
  },
  {
   "cell_type": "code",
   "execution_count": null,
   "metadata": {},
   "outputs": [],
   "source": [
    "# Start measurements\n",
    "\n",
    "lna_psu.lna(state=True)\n",
    "shno_bias.on()\n",
    "mag_R = magnet.set_calibrated_current(start_field)\n",
    "time.sleep(1)\n",
    "\n",
    "\n",
    "# Start the measurement loop\n",
    "for bias_current in tqdm(bias_range):\n",
    "\n",
    "    mag_R = magnet.set_calibrated_current(start_field, mag_R)\n",
    "    \n",
    "    progress_bar = tqdm(enumerate(magnet_range), total=len(magnet_range), leave=False)\n",
    "    for i, field in progress_bar:\n",
    "\n",
    "        mag_R = magnet.set_calibrated_current(field, mag_R)\n",
    "        time.sleep(1)\n",
    "        applied_field[i] = magnet.field_strenght()\n",
    "        progress_bar.set_postfix({'Applied Field': applied_field[i]})\n",
    "        waveforms[i] = fsv.get_trace(avg_count=50)\n",
    "    \n",
    "    # Save automatically during the measurement for each different bias current. \n",
    "    # Create the folder for the data before running the sweep!\n",
    "    name = f\"bias_sweep/field_sweep_{sample_name}/{date}_{sample_name}_\" + \"{:0.2f}\".format((bias_current*1000)) + \"_mA_76deg.h5\"\n",
    "    with h5py.File(name, 'w') as f:\n",
    "        f.create_dataset('frequency', data=frequency)\n",
    "        f.create_dataset('waveforms', data=waveforms)\n",
    "        f.create_dataset('applied_field', data=applied_field)\n",
    "    \n",
    "    \n",
    "# Turn off all power\n",
    "lna_psu.lna(state=False)\n",
    "shno_bias.off()\n",
    "magnet.off()\n",
    "shno_bias.chirp(0)"
   ]
  },
  {
   "cell_type": "markdown",
   "metadata": {},
   "source": [
    "## Saving and loading data"
   ]
  },
  {
   "cell_type": "code",
   "execution_count": null,
   "metadata": {},
   "outputs": [],
   "source": [
    "# Save the data\n",
    "name = f'field_sweep/{date}_{sample_name}_{str(bias_current*1000).replace(\".\", \"_\")}72_deg_0_5T.h5'\n",
    "ans = input(f\"Confirm saving? [y/n]:{name}\")\n",
    "if ans == 'y':\n",
    "    with h5py.File(name, 'w') as f:\n",
    "        # Store the waveforms, frequency, and applied field\n",
    "        f.create_dataset('frequency', data=frequency)\n",
    "        f.create_dataset('waveforms', data=waveforms)\n",
    "        f.create_dataset('applied_field', data=applied_field)\n",
    "        f.create_dataset('angle', data=angle_range)\n",
    "        #f.create_dataset('bias_range', data=bias_range)\n",
    "    print(f\"File saved as: '{name}'\")\n",
    "    print(\"Time:\", time.strftime(\"%H:%M:%S\", time.localtime()))\n",
    "else: \n",
    "    print(\"Save cancelled!\")"
   ]
  },
  {
   "cell_type": "code",
   "execution_count": null,
   "metadata": {},
   "outputs": [],
   "source": [
    "# Load data\n",
    "name = './angle_sweep/field_sweep/X6_L1R2/3-13_2_0mA_80.0deg.h5'\n",
    "ans = input(\"Confirm loading? [y/n]\")\n",
    "if ans == 'y':\n",
    "    with h5py.File(name, 'r') as f:\n",
    "        applied_field = f['applied_field'][:]\n",
    "        waveforms = f['waveforms'][:]\n",
    "        frequency = f['frequency'][:]\n",
    "    print(\"Data loaded!\")\n",
    "    print(\"Time:\", time.strftime(\"%H:%M:%S\", time.localtime()))\n",
    "else: \n",
    "    print(\"Loading cancelled!\")\n",
    "    "
   ]
  },
  {
   "cell_type": "markdown",
   "metadata": {},
   "source": [
    "## Visualizations"
   ]
  },
  {
   "cell_type": "code",
   "execution_count": null,
   "metadata": {},
   "outputs": [],
   "source": [
    "# Select the type of data that has been captured. \n",
    "x_values = applied_field  #bias_range, applied_field, angle_range\n",
    "y_values = frequency/1e9\n",
    "y_values = y_values\n",
    "X, Y = np.meshgrid(x_values, y_values)\n",
    "\n",
    "plt.pcolormesh(X, Y, (waveforms.T), shading='nearest', cmap='viridis') \n",
    "#plt.xlim(1.1, 2.2)\n",
    "#plt.ylim(3.3, 3.7)\n",
    "plt.colorbar(label='Amplitude [dBm]')\n",
    "plt.xlabel('Applied field [mT]')                    # Adjust the x-axis label to the plot type\n",
    "#plt.xlabel('Out-of-Plane angle [$ \\degree $]')\n",
    "#plt.xlabel('Bias current [mA]')\n",
    "plt.ylabel('Frequency [GHz]')\n",
    "plt.tight_layout()\n",
    "plt.show()"
   ]
  },
  {
   "cell_type": "markdown",
   "metadata": {},
   "source": [
    "Data can also be vizualized in 3D using different plotting types. "
   ]
  },
  {
   "cell_type": "code",
   "execution_count": null,
   "metadata": {},
   "outputs": [],
   "source": [
    "# Plotting in 3D\n",
    "fig = plt.figure()\n",
    "ax = fig.add_subplot(111, projection='3d')\n",
    "\n",
    "# Loop through the Fourier Transforms and plot them\n",
    "for i, ft in enumerate(waveforms):\n",
    "    ax.plot(frequency/1e9, applied_field[i]*1000, zs=ft, zorder=-i,lw=0.5) #label=f\"Signal {i+1}\"\n",
    "    \n",
    "ax.set_xlabel('Frequency [GHz]')\n",
    "ax.set_zlabel('Amplitude [dBm]')\n",
    "ax.set_ylabel('Applied field[mT]')\n",
    "ax.set_title('3D Plot of Captured Spectrum')\n",
    "plt.tight_layout()\n",
    "\n",
    "plt.show()"
   ]
  },
  {
   "cell_type": "code",
   "execution_count": null,
   "metadata": {},
   "outputs": [],
   "source": [
    "# Interactive 3D plot\n",
    "\n",
    "colormap = 'Viridis'\n",
    "vmin, vmax = -80, -55  # Fixed range in dBm\n",
    "\n",
    "\n",
    "X, Y = np.meshgrid(frequency / 1e9, applied_field)\n",
    "Z = np.array(waveforms)\n",
    "\n",
    "fig = go.Figure(data=[go.Surface(\n",
    "    x=X, y=Y, z=Z,\n",
    "    colorscale=colormap,\n",
    "    cmin=vmin, cmax=vmax,\n",
    "    colorbar=dict(title=\"Amplitude [dBm]\")\n",
    ")])\n",
    "\n",
    "fig.update_layout(\n",
    "    width=800,\n",
    "    height=600,\n",
    "    scene=dict(\n",
    "        xaxis_title='Frequency [GHz]',\n",
    "        yaxis_title='Applied field [mT]',\n",
    "        zaxis_title='Amplitude [dBm]'\n",
    "    ),\n",
    "    title='Interactive 3D Plot of Captured Spectrum',\n",
    "    autosize=True, \n",
    "    showlegend=False\n",
    ")\n",
    "\n",
    "# Show the plot\n",
    "fig.show()"
   ]
  },
  {
   "cell_type": "markdown",
   "metadata": {},
   "source": [
    "## Disconnect instruments "
   ]
  },
  {
   "cell_type": "code",
   "execution_count": null,
   "metadata": {},
   "outputs": [],
   "source": [
    "vxm.Close()\n",
    "fsv.close()\n",
    "lna_psu.close()\n",
    "magnet.close()"
   ]
  }
 ],
 "metadata": {
  "kernelspec": {
   "display_name": "Monty",
   "language": "python",
   "name": "python3"
  },
  "language_info": {
   "codemirror_mode": {
    "name": "ipython",
    "version": 3
   },
   "file_extension": ".py",
   "mimetype": "text/x-python",
   "name": "python",
   "nbconvert_exporter": "python",
   "pygments_lexer": "ipython3",
   "version": "3.12.3"
  }
 },
 "nbformat": 4,
 "nbformat_minor": 2
}
