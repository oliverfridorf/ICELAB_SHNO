{
 "cells": [
  {
   "cell_type": "markdown",
   "metadata": {},
   "source": [
    "# Control code for the SHNO measurement setup"
   ]
  },
  {
   "cell_type": "code",
   "execution_count": null,
   "metadata": {},
   "outputs": [],
   "source": [
    "#import livbraries and necesary fundtions for the script to run\n",
    "import sys; sys.path.append(\"C:/Users/SpinAge_SHNO/Documents/Setup_control\")\n",
    "from shno_lib import *\n",
    "from mpl_toolkits.mplot3d import Axes3D\n",
    "import plotly.graph_objects as go\n",
    "import h5py\n",
    "\n",
    "# Initilize the intruments\n",
    "magnet = rs_hmp_psu()             # Default COM port\n",
    "lna_psu = keysight36300()         # Default IP\n",
    "shno_bias = keithley2450(addr=2)  # IP Connection\n",
    "vxm = Velmex_VXM()                # Default COM port\n",
    "fsv = rs_fsv()                    # Default IP  "
   ]
  },
  {
   "cell_type": "code",
   "execution_count": null,
   "metadata": {},
   "outputs": [],
   "source": [
    "# Turn off all power\n",
    "lna_psu.off()\n",
    "shno_bias.off()\n",
    "magnet.off()\n"
   ]
  },
  {
   "cell_type": "code",
   "execution_count": null,
   "metadata": {},
   "outputs": [],
   "source": [
    "# Control angle. Move to 118 for microscpe clearance.\n",
    "# note that the angle is move din relative terms\n",
    "vxm.move_degree(0, speed=2000)"
   ]
  },
  {
   "cell_type": "code",
   "execution_count": null,
   "metadata": {},
   "outputs": [],
   "source": [
    "# set the parameters for manually checking the probe landing\n",
    "shno_bias.set_output(I=50e-6, V=0.1, turn_on=False)\n",
    "shno_bias.on()"
   ]
  },
  {
   "cell_type": "markdown",
   "metadata": {},
   "source": [
    "## Magnetic field sweep"
   ]
  },
  {
   "cell_type": "code",
   "execution_count": null,
   "metadata": {},
   "outputs": [],
   "source": [
    "# initialize the parameteters\n",
    "\n",
    "# Metadata\n",
    "sample_name = \"mm_L3R4\"\n",
    "date = time.localtime()[1:3]\n",
    "date = f\"{date[0]}-{date[1]}\"\n",
    "\n",
    "# Angle: 82 degrees\n",
    "bias_current = 8e-3 # SHNO bias: 180nm: 2.2mA, 150nm: 2mA\n",
    "shno_bias.set_output(I=bias_current, V=2, turn_on=False)\n",
    "\n",
    "# Set magnet range in output current\n",
    "start_field = 2     #[A]\n",
    "stop_field = 4.5      #[A]\n",
    "step_size = 0.1    #[A]\n",
    "\n",
    "magnet_range = np.linspace(start_field, stop_field, int(abs((stop_field-start_field)/step_size)+1))\n",
    "applied_field = np.zeros_like(magnet_range)\n",
    "\n",
    "# Turn on FSV\n",
    "\n",
    "start_f = 3E9; stop_f = 9E9\n",
    "bandwidth = 500E3\n",
    "capture_points = int(2*(stop_f-start_f)/bandwidth/2)\n",
    "\n",
    "waveforms = np.zeros((len(magnet_range), capture_points))\n",
    "waveforms_bg = np.zeros_like(waveforms)\n",
    "fsv.show_screen(start_f = start_f, stop_f = stop_f, bandwidth=bandwidth, points = capture_points)\n",
    "frequency = np.linspace(start_f, stop_f, capture_points)\n",
    "\n"
   ]
  },
  {
   "cell_type": "code",
   "execution_count": null,
   "metadata": {},
   "outputs": [],
   "source": [
    "# Start measurements\n",
    "lna_psu.lna(state=True)\n",
    "shno_bias.on()\n",
    "time.sleep(1)\n",
    "\n",
    "progress_bar = tqdm(enumerate(magnet_range), total=len(magnet_range))\n",
    "\n",
    "mag_R = magnet.set_calibrated_current(start_field)\n",
    "\n",
    "for i, field in progress_bar:\n",
    "    mag_R = magnet.set_calibrated_current(field, mag_R)\n",
    "    \n",
    "    time.sleep(1)\n",
    "    applied_field[i] = magnet.field_strength()\n",
    "    progress_bar.set_postfix({'Applied Field': applied_field[i]})\n",
    "    waveforms[i] = fsv.get_trace(avg_count=50)\n",
    "\n",
    "# Turn off all power\n",
    "lna_psu.lna(state=False)\n",
    "shno_bias.off()\n",
    "magnet.off()\n",
    "shno_bias.chirp(0)\n"
   ]
  },
  {
   "cell_type": "code",
   "execution_count": null,
   "metadata": {},
   "outputs": [],
   "source": [
    "# Save the data\n",
    "name = f'../Memristor_SHNO_matrix/field_sweep/{date}_{sample_name}_{str(bias_current*1000).replace(\".\", \"_\")}mA_83deg.h5'\n",
    "ans = input(f\"Confirm saving? [y/n]:{name}\")\n",
    "if ans == 'y':\n",
    "    with h5py.File(name, 'w') as f:\n",
    "        # Store the waveforms, frequency, and applied field\n",
    "        f.create_dataset('frequency', data=frequency)\n",
    "        f.create_dataset('waveforms', data=waveforms)\n",
    "        f.create_dataset('applied_field', data=applied_field)\n",
    "    print(f\"File saved as: '{name}'\")\n",
    "    print(\"Time:\", time.strftime(\"%H:%M:%S\", time.localtime()))\n",
    "else: \n",
    "    print(\"Save cancelled!\")"
   ]
  },
  {
   "cell_type": "markdown",
   "metadata": {},
   "source": [
    "## Angle Sweep"
   ]
  },
  {
   "cell_type": "code",
   "execution_count": null,
   "metadata": {},
   "outputs": [],
   "source": [
    "# Reset position\n",
    "vxm.move_degree(0.2)"
   ]
  },
  {
   "cell_type": "code",
   "execution_count": null,
   "metadata": {},
   "outputs": [],
   "source": [
    "# initialize the parameteters\n",
    "\n",
    "# Metadata\n",
    "sample_name = \"mm_L4R3\"\n",
    "date = time.localtime()[1:3]\n",
    "date = f\"{date[0]}-{date[1]}\"\n",
    "\n",
    "# Angle: 82 degrees\n",
    "bias_current = 8e-3 # SHNO bias: 180nm: 2.2mA, 150nm: 2mA\n",
    "shno_bias.set_output(I=bias_current, V=2, turn_on=False)\n",
    "\n",
    "# Set magnet current \n",
    "magnet_current = 3.3 #[A] #3.3A = 0.5 T\n",
    "\n",
    "\n",
    "# Angle\n",
    "total_angle = 2\n",
    "step_size = 0.5\n",
    "angle_steps = int(total_angle/step_size)\n",
    "angle_range = np.linspace(0, total_angle, angle_steps)\n",
    "\n",
    "applied_field = np.zeros(angle_steps)\n",
    "\n",
    "# Turn on FSV\n",
    "start_f = 3E9; stop_f = 10E9\n",
    "bandwidth = 500E3           # noise floor approx -80dBm @ 500e3\n",
    "capture_points = int(2*(stop_f-start_f)/bandwidth)\n",
    "\n",
    "waveforms = np.zeros((angle_steps, capture_points))\n",
    "fsv.show_screen(start_f = start_f, stop_f = stop_f, bandwidth=bandwidth, points = capture_points)\n",
    "frequency = np.linspace(start_f, stop_f, capture_points)\n",
    "\n"
   ]
  },
  {
   "cell_type": "code",
   "execution_count": null,
   "metadata": {},
   "outputs": [],
   "source": [
    "# Start measurements\n",
    "lna_psu.lna(state=True)\n",
    "shno_bias.on()\n",
    "time.sleep(1)\n",
    "\n",
    "mag_R = magnet.set_calibrated_current(magnet_current)\n",
    "\n",
    "for i in tqdm(range(angle_steps)):\n",
    "    \n",
    "    mag_R = magnet.set_calibrated_current(magnet_current, mag_R)\n",
    "\n",
    "    applied_field[i] = magnet.field_strength()\n",
    "    waveforms[i] = fsv.get_trace(avg_count=50)\n",
    "    \n",
    "    vxm.move_degree(step_size)\n",
    "    shno_bias.on()\n",
    "    time.sleep(0.5)\n",
    "\n",
    "# Fix the too many steps bug\n",
    "vxm.move_degree(-step_size)\n",
    "\n",
    "# Turn off all power\n",
    "lna_psu.lna(state=False)\n",
    "shno_bias.off()\n",
    "magnet.off()\n",
    "shno_bias.chirp(0)"
   ]
  },
  {
   "cell_type": "code",
   "execution_count": null,
   "metadata": {},
   "outputs": [],
   "source": [
    "# Save the data\n",
    "name = f'../Memristor_SHNO_matrix/angle_sweep/{date}_{sample_name}_{str(bias_current*1000).replace(\".\", \"_\")}_startangle_72deg_mA_3_3A.h5'\n",
    "ans = input(f\"Confirm saving? [y/n]:{name}\")\n",
    "if ans == 'y':\n",
    "    with h5py.File(name, 'w') as f:\n",
    "        # Store the waveforms, frequency, and applied field\n",
    "        f.create_dataset('frequency', data=frequency)\n",
    "        f.create_dataset('waveforms', data=waveforms)\n",
    "        f.create_dataset('applied_field', data=applied_field)\n",
    "        f.create_dataset('angle_range', data=angle_range)\n",
    "    print(f\"File saved as: '{name}'\")\n",
    "    print(\"Time:\", time.strftime(\"%H:%M:%S\", time.localtime()))\n",
    "else: \n",
    "    print(\"Save cancelled!\")"
   ]
  },
  {
   "cell_type": "markdown",
   "metadata": {},
   "source": [
    "## Bias sweep"
   ]
  },
  {
   "cell_type": "code",
   "execution_count": null,
   "metadata": {},
   "outputs": [],
   "source": [
    "# initialize the parameteters\n",
    "\n",
    "# Metadata\n",
    "sample_name = \"mm_L4R3\"\n",
    "date = time.localtime()[1:3]\n",
    "date = f\"{date[0]}-{date[1]}\"\n",
    "\n",
    "# Angle: 82 degrees\n",
    "\n",
    "# Set magnet range in output voltage\n",
    "magnet_field = 3.0#3.3A = 0.5 mT\n",
    "\n",
    "# Set bias current range\n",
    "start_bias = 5e-3\n",
    "stop_bias = 6e-3\n",
    "bias_step = 0.2e-3\n",
    "\n",
    "total_steps = int((stop_bias-start_bias)/bias_step)+1\n",
    "bias_range = np.linspace(start_bias, stop_bias, total_steps)\n",
    "applied_field = np.zeros_like(bias_range)\n",
    "\n",
    "# Turn on FSV\n",
    "start_f = 3E9; stop_f = 9E9\n",
    "bandwidth = 500E3\n",
    "capture_points = int(2*(stop_f-start_f)/bandwidth)\n",
    "\n",
    "waveforms = np.zeros((total_steps, capture_points))\n",
    "fsv.show_screen(start_f = start_f, stop_f = stop_f, bandwidth=bandwidth, points = capture_points)\n",
    "frequency = np.linspace(start_f, stop_f, capture_points)\n"
   ]
  },
  {
   "cell_type": "code",
   "execution_count": null,
   "metadata": {},
   "outputs": [],
   "source": [
    "# Start measurements\n",
    "lna_psu.lna(state=True)\n",
    "mag_R = 2 # Initial resistance\n",
    "\n",
    "for i in tqdm(range(total_steps)):\n",
    "    mag_R = magnet.set_calibrated_current(magnet_field, mag_R)\n",
    "    shno_bias.set_output(2, bias_range[i], turn_on=True)\n",
    "    shno_bias.on()\n",
    "    time.sleep(1)\n",
    "    applied_field[i] = magnet.field_strength()\n",
    "    waveforms[i] = fsv.get_trace(avg_count=50)\n",
    "\n",
    "# Turn off all power\n",
    "lna_psu.lna(state=False)\n",
    "shno_bias.off()\n",
    "magnet.off()\n",
    "shno_bias.chirp(0)"
   ]
  },
  {
   "cell_type": "code",
   "execution_count": null,
   "metadata": {},
   "outputs": [],
   "source": [
    "# Save the data\n",
    "name = f'../Memristor_SHNO_matrix/bias_sweep/{date}_{sample_name}_82deg_field_3_0A.h5'\n",
    "ans = input(f\"Confirm saving? [y/n]:{name}\")\n",
    "if ans == 'y':\n",
    "    with h5py.File(name, 'w') as f:\n",
    "        # Store the waveforms, frequency, and applied field\n",
    "        f.create_dataset('frequency', data=frequency)\n",
    "        f.create_dataset('waveforms', data=waveforms)\n",
    "        f.create_dataset('applied_field', data=applied_field)\n",
    "        f.create_dataset('bias_range', data=bias_range)\n",
    "    print(f\"File saved as: '{name}'\")\n",
    "    print(\"Time:\", time.strftime(\"%H:%M:%S\", time.localtime()))\n",
    "else: \n",
    "    print(\"Save cancelled!\")"
   ]
  },
  {
   "cell_type": "markdown",
   "metadata": {},
   "source": [
    "## Angle/Field sweep"
   ]
  },
  {
   "cell_type": "code",
   "execution_count": null,
   "metadata": {},
   "outputs": [],
   "source": [
    "vxm.move_degree(2,speed=1600)"
   ]
  },
  {
   "cell_type": "code",
   "execution_count": null,
   "metadata": {},
   "outputs": [],
   "source": [
    "# initialize the parameteters\n",
    "# Remember to create a folder with the name of the sample!\n",
    "\n",
    "# Metadata\n",
    "sample_name = \"mm_L4R3\"\n",
    "date = time.localtime()[1:3]\n",
    "date = f\"{date[0]}-{date[1]}\"\n",
    "\n",
    "\n",
    "bias_current = 8.0e-3 # SHNO bias: 180nm: 2.2mA, 150nm: 2mA\n",
    "shno_bias.set_output(I=bias_current, V=2, turn_on=False)\n",
    "\n",
    "# Set magnet range in current\n",
    "start_field = 3.0\n",
    "stop_field = 4.9\n",
    "step_size = 0.5\n",
    "\n",
    "magnet_range = np.linspace(start_field, stop_field, int(abs((stop_field-start_field)/step_size)+1))\n",
    "applied_field = np.zeros_like(magnet_range)\n",
    "\n",
    "\n",
    "# Angle\n",
    "start_angle = 76 # set mnually \n",
    "\n",
    "total_angle = 2\n",
    "step_size = 0.25\n",
    "angle_steps = int(total_angle/step_size)\n",
    "angle_range = np.linspace(0, total_angle, angle_steps+1)\n",
    "\n",
    "# Turn on FSV\n",
    "start_f = 3E9; stop_f = 9E9\n",
    "bandwidth =1000E3\n",
    "capture_points = int(2*(stop_f-start_f)/bandwidth)\n",
    "\n",
    "waveforms = np.zeros((len(magnet_range), capture_points))\n",
    "waveforms_bg = np.zeros_like(waveforms)\n",
    "fsv.show_screen(start_f = start_f, stop_f = stop_f, bandwidth=bandwidth, points = capture_points)\n",
    "frequency = np.linspace(start_f, stop_f, capture_points)\n"
   ]
  },
  {
   "cell_type": "code",
   "execution_count": null,
   "metadata": {},
   "outputs": [],
   "source": [
    "# Start measurements\n",
    "lna_psu.lna(state=True)\n",
    "shno_bias.on()\n",
    "time.sleep(1)\n",
    "\n",
    "for angle in tqdm(angle_range):\n",
    "\n",
    "    progress_bar = tqdm(enumerate(magnet_range), total=len(magnet_range), leave=False)\n",
    "    mag_R = magnet.set_calibrated_current(start_field)\n",
    "    for i, field in progress_bar:\n",
    "        mag_R = magnet.set_calibrated_current(field, mag_R)\n",
    "        applied_field[i] = magnet.field_strength()\n",
    "        progress_bar.set_postfix({'Applied Field': applied_field[i]})\n",
    "        waveforms[i] = fsv.get_trace(avg_count=50)\n",
    "        \n",
    "    # Save the data\n",
    "    name = f'../Memristor_SHNO_matrix/angle_sweep/field_sweep/{sample_name}/{date}_{str(bias_current*1000).replace(\".\", \"_\")}mA_{angle + start_angle}deg.h5'\n",
    "    with h5py.File(name, 'w') as f:\n",
    "        # Store the waveforms, frequency, and applied field\n",
    "        f.create_dataset('frequency', data=frequency)\n",
    "        f.create_dataset('waveforms', data=waveforms)\n",
    "        f.create_dataset('applied_field', data=applied_field)\n",
    "\n",
    "\n",
    "    vxm.move_degree(step_size)\n",
    "    \n",
    "    \n",
    "# Turn off all power\n",
    "lna_psu.lna(state=False)\n",
    "shno_bias.off()\n",
    "magnet.off()\n",
    "shno_bias.chirp(0)"
   ]
  },
  {
   "cell_type": "markdown",
   "metadata": {},
   "source": [
    "## Field + Bias Sweep"
   ]
  },
  {
   "cell_type": "code",
   "execution_count": null,
   "metadata": {},
   "outputs": [],
   "source": [
    "# initialize the parameteters\n",
    "# Remember to create a folder with the name of the sample!\n",
    "\n",
    "# Metadata\n",
    "sample_name = \"mm_L3R4\"\n",
    "date = time.localtime()[1:3]\n",
    "date = f\"{date[0]}-{date[1]}\"\n",
    "\n",
    "\n",
    "# Set bias current range\n",
    "start_bias = 4e-3\n",
    "stop_bias = 8e-3\n",
    "bias_step = 2e-3\n",
    "\n",
    "total_steps = int((stop_bias-start_bias)/bias_step)\n",
    "bias_range = np.linspace(start_bias, stop_bias, total_steps)\n",
    "\n",
    "#applied_field = np.zeros_like(bias_range)\n",
    "\n",
    "\n",
    "# Set magnet range in output voltage\n",
    "start_field = 2 #[A]\n",
    "stop_field = 4.5  #[A]\n",
    "step_size = 0.15\n",
    "\n",
    "\n",
    "\n",
    "magnet_range = np.linspace(start_field, stop_field, int(abs((stop_field-start_field)/step_size)+1))\n",
    "applied_field = np.zeros_like(magnet_range)\n",
    "\n",
    "\n",
    "\n",
    "#applied_field = np.zeros(angle_steps)\n",
    "\n",
    "# Turn on FSV\n",
    "start_f = 3E9; stop_f = 9E9\n",
    "bandwidth = 500E3\n",
    "capture_points = int(2*(stop_f-start_f)/bandwidth)\n",
    "\n",
    "waveforms = np.zeros((len(magnet_range), capture_points))\n",
    "waveforms_bg = np.zeros_like(waveforms)\n",
    "fsv.show_screen(start_f = start_f, stop_f = stop_f, bandwidth=bandwidth, points = capture_points)\n",
    "frequency = np.linspace(start_f, stop_f, capture_points)\n"
   ]
  },
  {
   "cell_type": "code",
   "execution_count": null,
   "metadata": {},
   "outputs": [],
   "source": [
    "# Start measurements\n",
    "\n",
    "lna_psu.lna(state=True)\n",
    "shno_bias.on()\n",
    "time.sleep(1)\n",
    "\n",
    "\n",
    "\n",
    "\n",
    "mag_R = magnet.set_calibrated_current(start_field)\n",
    "\n",
    "for bias_current in tqdm(bias_range):\n",
    "    # set the new bias current\n",
    "    shno_bias.set_output(I=bias_current, V=2, turn_on=True) \n",
    "    \n",
    "\n",
    "    \n",
    "    \n",
    "    progress_bar = tqdm(enumerate(magnet_range), total=len(magnet_range), leave=False)\n",
    "    for i, field in progress_bar:\n",
    "        \n",
    "        mag_R = magnet.set_calibrated_current(field, mag_R)\n",
    "        \n",
    "        applied_field[i] = magnet.field_strength()\n",
    "        progress_bar.set_postfix({'Applied Field': applied_field[i]})\n",
    "        waveforms[i] = fsv.get_trace(avg_count=50)\n",
    "    \n",
    "\n",
    "    # Save the data\n",
    "    #name = f'bias_sweep/field_sweep/{date}_{sample_name}_{str(np.round(bias_current*1000, 2)).replace(\".\", \"_\")}mA_82deg.h5'\n",
    "    name = f\"../Memristor_SHNO_matrix/bias_sweep/field_sweep_78_{sample_name.split('_')[-1]}/{date}_{sample_name}_\" + \"{:0.2f}\".format((bias_current*1000)) + \"_mA.h5\"\n",
    "    with h5py.File(name, 'w') as f:\n",
    "        # Store the waveforms, frequency, and applied field\n",
    "        f.create_dataset('frequency', data=frequency)\n",
    "        f.create_dataset('waveforms', data=waveforms)\n",
    "        f.create_dataset('applied_field', data=applied_field)\n",
    "    \n",
    "    \n",
    "# Turn off all power\n",
    "lna_psu.lna(state=False)\n",
    "shno_bias.off()\n",
    "magnet.off()\n",
    "shno_bias.chirp(0)"
   ]
  },
  {
   "cell_type": "markdown",
   "metadata": {},
   "source": [
    "## Saving data"
   ]
  },
  {
   "cell_type": "code",
   "execution_count": null,
   "metadata": {},
   "outputs": [],
   "source": [
    "# Save the data\n",
    "name = f'../Memristor_SHNO_matrix/field_sweep/{date}_{sample_name}_{str(bias_current*1000).replace(\".\", \"_\")}mA_77_deg.h5'\n",
    "ans = input(f\"Confirm saving? [y/n]:{name}\")\n",
    "if ans == 'y':\n",
    "    with h5py.File(name, 'w') as f:\n",
    "        # Store the waveforms, frequency, and applied field\n",
    "        f.create_dataset('frequency', data=frequency)\n",
    "        f.create_dataset('waveforms', data=waveforms)\n",
    "        f.create_dataset('applied_field', data=applied_field)\n",
    "        #f.create_dataset('angle', data=angle_range)\n",
    "        #f.create_dataset('bias_range', data=bias_range)\n",
    "    print(f\"File saved as: '{name}'\")\n",
    "    print(\"Time:\", time.strftime(\"%H:%M:%S\", time.localtime()))\n",
    "else: \n",
    "    print(\"Save cancelled!\")"
   ]
  },
  {
   "cell_type": "code",
   "execution_count": null,
   "metadata": {},
   "outputs": [],
   "source": [
    "# Load data\n",
    "name = '../Memristor_SHNO_matrix/angle_sweep/field_sweep/X6_L1R2/3-13_2_0mA_80.0deg.h5'\n",
    "ans = input(\"Confirm loading? [y/n]\")\n",
    "if ans == 'y':\n",
    "    with h5py.File(name, 'r') as f:\n",
    "        applied_field = f['applied_field'][:]\n",
    "        waveforms = f['waveforms'][:]\n",
    "        frequency = f['frequency'][:]\n",
    "    print(\"Data loaded!\")\n",
    "    print(\"Time:\", time.strftime(\"%H:%M:%S\", time.localtime()))\n",
    "else: \n",
    "    print(\"Loading cancelled!\")\n",
    "    "
   ]
  },
  {
   "cell_type": "markdown",
   "metadata": {},
   "source": [
    "## Visualizations"
   ]
  },
  {
   "cell_type": "code",
   "execution_count": null,
   "metadata": {},
   "outputs": [],
   "source": [
    "x_values = applied_field#bias_range#applied_field#applied_field#applied_field #bias_range#applied_field#bias_range*1000 # #applied_field #angle_range\n",
    "y_values = frequency/1e9\n",
    "X, Y = np.meshgrid(x_values, y_values)\n",
    "\n",
    "plt.pcolormesh(X, Y, (waveforms.T), shading='nearest', cmap='viridis') #vmax = -74, vmin = -80\n",
    "plt.colorbar(label='Amplitude [dBm]')\n",
    "plt.xlabel('Applied field [mT]')\n",
    "plt.ylabel('Frequency [GHz]')\n",
    "plt.ylim(6.8, 7.2)\n",
    "plt.tight_layout()\n",
    "plt.show()"
   ]
  },
  {
   "cell_type": "markdown",
   "metadata": {},
   "source": [
    "## Disconnect"
   ]
  },
  {
   "cell_type": "code",
   "execution_count": null,
   "metadata": {},
   "outputs": [],
   "source": [
    "vxm.Close()\n",
    "fsv.close()\n",
    "lna_psu.close()\n",
    "magnet.close()"
   ]
  }
 ],
 "metadata": {
  "kernelspec": {
   "display_name": "Python 3",
   "language": "python",
   "name": "python3"
  },
  "language_info": {
   "codemirror_mode": {
    "name": "ipython",
    "version": 3
   },
   "file_extension": ".py",
   "mimetype": "text/x-python",
   "name": "python",
   "nbconvert_exporter": "python",
   "pygments_lexer": "ipython3",
   "version": "3.13.1"
  }
 },
 "nbformat": 4,
 "nbformat_minor": 2
}
